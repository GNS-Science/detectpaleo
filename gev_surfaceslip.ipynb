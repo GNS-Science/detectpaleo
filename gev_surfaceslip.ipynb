{
 "cells": [
  {
   "cell_type": "code",
   "execution_count": 25,
   "id": "e7bce96f",
   "metadata": {},
   "outputs": [],
   "source": [
    "from scipy.stats import genextreme as gev\n",
    "import matplotlib.pyplot as plt\n",
    "import numpy as np\n",
    "import scipy.io as spio"
   ]
  },
  {
   "cell_type": "markdown",
   "id": "042b46e2",
   "metadata": {},
   "source": [
    "# Generalized Extreme Value Model for Surface Displacement Distribution "
   ]
  },
  {
   "cell_type": "markdown",
   "id": "81ea4e03",
   "metadata": {},
   "source": [
    "If you find this work useful, please cite:\n",
    "\n",
    "Thingbaijam K.K.S. (2022) Generalized Extreme Value Model for Surface Displacement Distribution."
   ]
  },
  {
   "cell_type": "code",
   "execution_count": 26,
   "id": "166e9d97",
   "metadata": {},
   "outputs": [],
   "source": [
    "# the data is in .mat format. See mat.py in eqsrcpy for a more elegant way to read .mat files \n",
    "data = spio.loadmat('data/surfaceprofiles_srcmod2016.mat', struct_as_record=False, squeeze_me=True)\n",
    "slips = data[\"slips\"]\n",
    "normx = data[\"normx\"]\n",
    "nprofiles = len(slips)\n",
    "# note that these profile include reflections - it is double counted \n",
    "ngridpoints = len(slips[0])\n",
    "# slips = np.array(slips)# we want to slice"
   ]
  },
  {
   "cell_type": "code",
   "execution_count": 27,
   "id": "c79a8ed0",
   "metadata": {},
   "outputs": [
    {
     "data": {
      "image/png": "[encoded data removed]",
      "text/plain": [
       "<Figure size 216x216 with 1 Axes>"
      ]
     },
     "metadata": {
      "needs_background": "light"
     },
     "output_type": "display_data"
    }
   ],
   "source": [
    "par_shp = []\n",
    "par_loc = []\n",
    "par_scl = []\n",
    "\n",
    "# get distribution for a point\n",
    "\n",
    "i=0;\n",
    "plt.figure(figsize=(3, 3))\n",
    "xi = normx[i]\n",
    "si = slips[:,i]\n",
    "plt.hist(si, density=True);\n",
    "fit = gev.fit(si)\n",
    "# fit returns MLE estimates of the shape, location, scale parameters\n",
    "# Also, note that the results from scipy.stats and MATLAB differs in the sign of shape parameter    \n",
    "\n",
    "x = np.linspace(0.0,5,100) \n",
    "y = gev.pdf(x, fit[0], loc=fit[1], scale=fit[2])\n",
    "plt.plot(x, y, 'r-');\n",
    "plt.xlabel('normalized slip (m)');\n",
    "plt.ylabel('probability');"
   ]
  },
  {
   "cell_type": "code",
   "execution_count": null,
   "id": "f22aba44",
   "metadata": {},
   "outputs": [],
   "source": []
  },
  {
   "cell_type": "code",
   "execution_count": null,
   "id": "b9f7b126",
   "metadata": {},
   "outputs": [],
   "source": []
  },
  {
   "cell_type": "markdown",
   "id": "82498b8d",
   "metadata": {},
   "source": [
    "### References\n",
    "\n",
    "SciPy User Guide, https://docs.scipy.org/doc/scipy/reference/tutorial/stats/continuous_genextreme.html, last accessed: January 20, 2022. \n",
    "\n",
    "Thingbaijam  KKS,  Van  Dissen  RJ,  Shaw  BE,  Gerstenberger  MC. 2022. Average coseismic slip profiles. Lower Hutt (NZ):  GNS Science.33p. (GNS Science report; 2021/24). doi:10.21420/S6ED-JN06\n",
    "\n",
    "Mai PM, Thingbaijam KKS. (2014) SRCMOD: An online database of finite‐fault rupture models. Seismological Research Letters. 85(6):1348-57.http://equake-rc.info/srcmod/\n",
    "\n"
   ]
  },
  {
   "cell_type": "code",
   "execution_count": null,
   "id": "190830e0",
   "metadata": {},
   "outputs": [],
   "source": []
  }
 ],
 "metadata": {
  "kernelspec": {
   "display_name": "Python 3 (ipykernel)",
   "language": "python",
   "name": "python3"
  },
  "language_info": {
   "codemirror_mode": {
    "name": "ipython",
    "version": 3
   },
   "file_extension": ".py",
   "mimetype": "text/x-python",
   "name": "python",
   "nbconvert_exporter": "python",
   "pygments_lexer": "ipython3",
   "version": "3.8.12"
  }
 },
 "nbformat": 4,
 "nbformat_minor": 5
}
